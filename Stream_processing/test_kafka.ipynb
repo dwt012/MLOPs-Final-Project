{
 "cells": [
  {
   "cell_type": "code",
   "execution_count": 1,
   "id": "7fb7bf2c",
   "metadata": {},
   "outputs": [],
   "source": [
    "import json\n",
    "import os\n",
    "import pandas as pd\n",
    "import requests\n",
    "from confluent_kafka import Consumer, KafkaException\n"
   ]
  },
  {
   "cell_type": "code",
   "execution_count": 11,
   "id": "7d2ce208",
   "metadata": {},
   "outputs": [],
   "source": [
    "consumer_config = {\n",
    "    \"bootstrap.servers\": \"localhost:9092\",\n",
    "    \"group.id\": \"mygroup\",\n",
    "    \"auto.offset.reset\": \"latest\",\n",
    "}\n",
    "\n",
    "headers = {\n",
    "    \"accept\": \"application/json\",\n",
    "    \"Content-Type\": \"application/json\",\n",
    "}\n",
    "\n",
    "consumer = Consumer(consumer_config)\n",
    "consumer.subscribe([\"diabetes_out.public.sink_diabetes\"])"
   ]
  },
  {
   "cell_type": "code",
   "execution_count": 12,
   "id": "9647e1eb",
   "metadata": {},
   "outputs": [],
   "source": [
    "def process_message(msg):\n",
    "    if msg is None:\n",
    "        return None\n",
    "    if msg.error():\n",
    "        raise KafkaException(msg.error())\n",
    "\n",
    "    value = json.loads(msg.value().decode(\"utf-8\"))[\"data\"]\n",
    "    print(f\"Received message: {value}\")\n",
    "\n",
    "    response = requests.post(\n",
    "        \"http://localhost:4001/predict\", headers=headers, json=value\n",
    "    )\n",
    "    if response.status_code != 200:\n",
    "        print(\"Failed to get prediction!\")\n",
    "        return None\n",
    "\n",
    "    result_json = response.json()\n",
    "    print(\"API response:\", result_json)\n",
    "\n",
    "    dic = {\"Diabetes\": 1, \"Normal\": 0}\n",
    "    value[\"Outcome\"] = dic[result_json[\"result\"]]\n",
    "\n",
    "    return value"
   ]
  },
  {
   "cell_type": "code",
   "execution_count": 13,
   "id": "bae6e962",
   "metadata": {},
   "outputs": [],
   "source": [
    "def append_to_csv(value, file_path=\"../data/diabetes-kafka/diabetes_new.csv\"):\n",
    "    columns = [\n",
    "        \"Pregnancies\", \"Glucose\", \"BloodPressure\", \"SkinThickness\",\n",
    "        \"Insulin\", \"BMI\", \"DiabetesPedigreeFunction\", \"Age\", \"Outcome\"\n",
    "    ]\n",
    "    ordered_values = [value[col] for col in columns]\n",
    "    new_df = pd.DataFrame([ordered_values], columns=columns)\n",
    "\n",
    "    if os.path.exists(file_path):\n",
    "        df = pd.read_csv(file_path)\n",
    "        pd.concat([df, new_df]).to_csv(file_path, index=False)\n",
    "    else:\n",
    "        new_df.to_csv(file_path, index=False)"
   ]
  },
  {
   "cell_type": "code",
   "execution_count": 14,
   "id": "b380bd84",
   "metadata": {},
   "outputs": [
    {
     "name": "stdout",
     "output_type": "stream",
     "text": [
      "Aborted by user!\n",
      "Final Outcome returned: None\n"
     ]
    }
   ],
   "source": [
    "outcome_value = None\n",
    "try:\n",
    "    while True:\n",
    "        msg = consumer.poll(1.0)\n",
    "        result = process_message(msg)\n",
    "        if result:\n",
    "            append_to_csv(result)\n",
    "            outcome_value = result[\"Outcome\"]\n",
    "            break  # Xử lý 1 message và dừng lại để debug dễ hơn\n",
    "except KeyboardInterrupt:\n",
    "    print(\"Aborted by user!\")\n",
    "finally:\n",
    "    consumer.close()\n",
    "\n",
    "print(\"Final Outcome returned:\", outcome_value)"
   ]
  },
  {
   "cell_type": "code",
   "execution_count": 15,
   "id": "3d196e74",
   "metadata": {},
   "outputs": [
    {
     "name": "stderr",
     "output_type": "stream",
     "text": [
      "%3|1746818902.114|FAIL|rdkafka#consumer-7| [thrd:cdc-broker:29092/bootstrap]: cdc-broker:29092/bootstrap: Failed to resolve 'cdc-broker:29092': nodename nor servname provided, or not known (after 14ms in state CONNECT)\n",
      "%3|1746818903.135|FAIL|rdkafka#consumer-7| [thrd:cdc-broker:29092/bootstrap]: cdc-broker:29092/bootstrap: Failed to resolve 'cdc-broker:29092': nodename nor servname provided, or not known (after 2ms in state CONNECT, 1 identical error(s) suppressed)\n"
     ]
    },
    {
     "name": "stdout",
     "output_type": "stream",
     "text": [
      "Aborted by user!\n"
     ]
    }
   ],
   "source": [
    "import json, os\n",
    "import pandas as pd\n",
    "import requests\n",
    "from confluent_kafka import Consumer, KafkaException\n",
    "\n",
    "KAFKA_SERVER = \"cdc-broker:29092\"\n",
    "API_URL = \"http://diabetes-service-api:4001/predict\"\n",
    "CSV_PATH = \"/data/diabetes_new.csv\"\n",
    "\n",
    "def main():\n",
    "    consumer = Consumer({\n",
    "        \"bootstrap.servers\": KAFKA_SERVER,\n",
    "        \"group.id\": \"mygroup\",\n",
    "        \"auto.offset.reset\": \"latest\",\n",
    "    })\n",
    "    consumer.subscribe([\"diabetes_out.public.sink_diabetes\"])\n",
    "\n",
    "    headers = {\n",
    "        \"accept\": \"application/json\",\n",
    "        \"Content-Type\": \"application/json\",\n",
    "    }\n",
    "\n",
    "    try:\n",
    "        while True:\n",
    "            msg = consumer.poll(1.0)\n",
    "            if msg is None:\n",
    "                continue\n",
    "            if msg.error():\n",
    "                raise KafkaException(msg.error())\n",
    "\n",
    "            value = json.loads(msg.value().decode(\"utf-8\"))[\"data\"]\n",
    "            print(f\"Received message: {value}\")\n",
    "\n",
    "            response = requests.post(API_URL, headers=headers, json=value)\n",
    "            if response.status_code != 200:\n",
    "                print(\"Failed to get prediction!\")\n",
    "                continue\n",
    "\n",
    "            result = response.json()[\"result\"]\n",
    "            print(\"Prediction result:\", result)\n",
    "\n",
    "            dic = {\"Diabetes\": 1, \"Normal\": 0}\n",
    "            value[\"Outcome\"] = dic[result]\n",
    "\n",
    "            cols = [\n",
    "                \"Pregnancies\", \"Glucose\", \"BloodPressure\", \"SkinThickness\",\n",
    "                \"Insulin\", \"BMI\", \"DiabetesPedigreeFunction\", \"Age\", \"Outcome\"\n",
    "            ]\n",
    "            new_df = pd.DataFrame([[value[c] for c in cols]], columns=cols)\n",
    "\n",
    "            if os.path.exists(CSV_PATH):\n",
    "                df = pd.read_csv(CSV_PATH)\n",
    "                pd.concat([df, new_df]).to_csv(CSV_PATH, index=False)\n",
    "            else:\n",
    "                new_df.to_csv(CSV_PATH, index=False)\n",
    "\n",
    "    except KeyboardInterrupt:\n",
    "        print(\"Aborted by user!\")\n",
    "\n",
    "    finally:\n",
    "        consumer.close()\n",
    "\n",
    "if __name__ == \"__main__\":\n",
    "    main()"
   ]
  },
  {
   "cell_type": "code",
   "execution_count": null,
   "id": "e202099d",
   "metadata": {},
   "outputs": [],
   "source": []
  }
 ],
 "metadata": {
  "kernelspec": {
   "display_name": "flink-env",
   "language": "python",
   "name": "python3"
  },
  "language_info": {
   "codemirror_mode": {
    "name": "ipython",
    "version": 3
   },
   "file_extension": ".py",
   "mimetype": "text/x-python",
   "name": "python",
   "nbconvert_exporter": "python",
   "pygments_lexer": "ipython3",
   "version": "3.10.17"
  }
 },
 "nbformat": 4,
 "nbformat_minor": 5
}
