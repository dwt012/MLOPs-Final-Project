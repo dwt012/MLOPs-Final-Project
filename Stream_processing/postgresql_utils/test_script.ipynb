{
 "cells": [
  {
   "cell_type": "code",
   "execution_count": 1,
   "id": "19a09baf",
   "metadata": {},
   "outputs": [
    {
     "data": {
      "text/plain": [
       "True"
      ]
     },
     "execution_count": 1,
     "metadata": {},
     "output_type": "execute_result"
    }
   ],
   "source": [
    "import os\n",
    "from glob import glob\n",
    "import pandas as pd\n",
    "import psycopg2\n",
    "from sqlalchemy import create_engine\n",
    "from dotenv import load_dotenv\n",
    "#from postgresql_client import PostgresSQLClient\n",
    "\n",
    "load_dotenv()"
   ]
  },
  {
   "cell_type": "code",
   "execution_count": 13,
   "id": "26bd9f5b",
   "metadata": {
    "vscode": {
     "languageId": "shellscript"
    }
   },
   "outputs": [
    {
     "name": "stdout",
     "output_type": "stream",
     "text": [
      "Command Output: {\"error_code\":500,\"message\":\"Failed to find any class that implements Connector and which name matches FileStreamSource, available connectors are: PluginDesc{klass=class io.debezium.connector.db2.Db2Connector, name='io.debezium.connector.db2.Db2Connector', version='2.7.3.Final', encodedVersion=2.7.3.Final, type=source, typeName='source', location='file:/kafka/connect/debezium-connector-db2/'}, PluginDesc{klass=class io.debezium.connector.db2as400.As400RpcConnector, name='io.debezium.connector.db2as400.As400RpcConnector', version='2.7.3.Final', encodedVersion=2.7.3.Final, type=source, typeName='source', location='file:/kafka/connect/debezium-connector-ibmi/'}, PluginDesc{klass=class io.debezium.connector.informix.InformixConnector, name='io.debezium.connector.informix.InformixConnector', version='2.7.3.Final', encodedVersion=2.7.3.Final, type=source, typeName='source', location='file:/kafka/connect/debezium-connector-informix/'}, PluginDesc{klass=class io.debezium.connector.jdbc.JdbcSinkConnector, name='io.debezium.connector.jdbc.JdbcSinkConnector', version='2.7.3.Final', encodedVersion=2.7.3.Final, type=sink, typeName='sink', location='file:/kafka/connect/debezium-connector-jdbc/'}, PluginDesc{klass=class io.debezium.connector.mariadb.MariaDbConnector, name='io.debezium.connector.mariadb.MariaDbConnector', version='2.7.3.Final', encodedVersion=2.7.3.Final, type=source, typeName='source', location='file:/kafka/connect/debezium-connector-mariadb/'}, PluginDesc{klass=class io.debezium.connector.mongodb.MongoDbConnector, name='io.debezium.connector.mongodb.MongoDbConnector', version='2.7.3.Final', encodedVersion=2.7.3.Final, type=source, typeName='source', location='file:/kafka/connect/debezium-connector-mongodb/'}, PluginDesc{klass=class io.debezium.connector.mysql.MySqlConnector, name='io.debezium.connector.mysql.MySqlConnector', version='2.7.3.Final', encodedVersion=2.7.3.Final, type=source, typeName='source', location='file:/kafka/connect/debezium-connector-mysql/'}, PluginDesc{klass=class io.debezium.connector.oracle.OracleConnector, name='io.debezium.connector.oracle.OracleConnector', version='2.7.3.Final', encodedVersion=2.7.3.Final, type=source, typeName='source', location='file:/kafka/connect/debezium-connector-oracle/'}, PluginDesc{klass=class io.debezium.connector.postgresql.PostgresConnector, name='io.debezium.connector.postgresql.PostgresConnector', version='2.7.3.Final', encodedVersion=2.7.3.Final, type=source, typeName='source', location='file:/kafka/connect/debezium-connector-postgres/'}, PluginDesc{klass=class io.debezium.connector.spanner.SpannerConnector, name='io.debezium.connector.spanner.SpannerConnector', version='2.7.3.Final', encodedVersion=2.7.3.Final, type=source, typeName='source', location='file:/kafka/connect/debezium-connector-spanner/'}, PluginDesc{klass=class io.debezium.connector.sqlserver.SqlServerConnector, name='io.debezium.connector.sqlserver.SqlServerConnector', version='2.7.3.Final', encodedVersion=2.7.3.Final, type=source, typeName='source', location='file:/kafka/connect/debezium-connector-sqlserver/'}, PluginDesc{klass=class io.debezium.connector.vitess.VitessConnector, name='io.debezium.connector.vitess.VitessConnector', version='2.7.3.Final', encodedVersion=2.7.3.Final, type=source, typeName='source', location='file:/kafka/connect/debezium-connector-vitess/'}, PluginDesc{klass=class org.apache.kafka.connect.mirror.MirrorCheckpointConnector, name='org.apache.kafka.connect.mirror.MirrorCheckpointConnector', version='3.7.0', encodedVersion=3.7.0, type=source, typeName='source', location='classpath'}, PluginDesc{klass=class org.apache.kafka.connect.mirror.MirrorHeartbeatConnector, name='org.apache.kafka.connect.mirror.MirrorHeartbeatConnector', version='3.7.0', encodedVersion=3.7.0, type=source, typeName='source', location='classpath'}, PluginDesc{klass=class org.apache.kafka.connect.mirror.MirrorSourceConnector, name='org.apache.kafka.connect.mirror.MirrorSourceConnector', version='3.7.0', encodedVersion=3.7.0, type=source, typeName='source', location='classpath'}\"}\n"
     ]
    }
   ],
   "source": [
    "import subprocess\n",
    "\n",
    "# Define the curl command\n",
    "curl_command = [\n",
    "      \"curl\", \"-X\", \"POST\", \"http://localhost:8083/connectors\",\n",
    "      \"-H\", \"Content-Type: application/json\",\n",
    "      \"-d\", '''{\n",
    "        \"name\": \"test-connector\",\n",
    "        \"config\": {\n",
    "            \"connector.class\": \"FileStreamSource\",\n",
    "            \"tasks.max\": \"1\",\n",
    "            \"file\": \"/tmp/test.txt\",\n",
    "            \"topic\": \"test-topic\"\n",
    "        }\n",
    "      }'''\n",
    "]\n",
    "\n",
    "# Execute the command and capture output\n",
    "try:\n",
    "      result = subprocess.run(curl_command, capture_output=True, text=True, check=True)\n",
    "      print(\"Command Output:\", result.stdout)\n",
    "except subprocess.CalledProcessError as e:\n",
    "      print(\"Error:\", e.stderr)\n"
   ]
  },
  {
   "cell_type": "code",
   "execution_count": 14,
   "id": "c4e4be61",
   "metadata": {
    "vscode": {
     "languageId": "shellscript"
    }
   },
   "outputs": [
    {
     "name": "stdout",
     "output_type": "stream",
     "text": [
      "Command Output: {\"error_code\":404,\"message\":\"Connector test-connector not found\"}\n"
     ]
    }
   ],
   "source": [
    "# Define the curl command for DELETE\n",
    "delete_curl_command = [\n",
    "      \"curl\", \"-X\", \"DELETE\", \"http://localhost:8083/connectors/test-connector\"\n",
    "]\n",
    "\n",
    "# Execute the command and capture output\n",
    "try:\n",
    "      delete_result = subprocess.run(delete_curl_command, capture_output=True, text=True, check=True)\n",
    "      print(\"Command Output:\", delete_result.stdout)\n",
    "except subprocess.CalledProcessError as e:\n",
    "      print(\"Error:\", e.stderr)\n"
   ]
  },
  {
   "cell_type": "code",
   "execution_count": 2,
   "id": "36856067",
   "metadata": {
    "vscode": {
     "languageId": "shellscript"
    }
   },
   "outputs": [
    {
     "name": "stdout",
     "output_type": "stream",
     "text": [
      "Collecting pyflink\n",
      "  Using cached pyflink-1.0-py3-none-any.whl.metadata (239 bytes)\n",
      "Using cached pyflink-1.0-py3-none-any.whl (37 kB)\n",
      "Installing collected packages: pyflink\n",
      "Successfully installed pyflink-1.0\n",
      "Note: you may need to restart the kernel to use updated packages.\n"
     ]
    }
   ],
   "source": [
    "pip install pyflink"
   ]
  },
  {
   "cell_type": "code",
   "execution_count": 6,
   "id": "d90e4dec",
   "metadata": {
    "vscode": {
     "languageId": "shellscript"
    }
   },
   "outputs": [
    {
     "name": "stdout",
     "output_type": "stream",
     "text": [
      "/opt/anaconda3/envs/dseb_tsa/bin/python\n"
     ]
    }
   ],
   "source": [
    "!which python\n"
   ]
  },
  {
   "cell_type": "code",
   "execution_count": 7,
   "id": "7744637a",
   "metadata": {
    "vscode": {
     "languageId": "shellscript"
    }
   },
   "outputs": [
    {
     "name": "stdout",
     "output_type": "stream",
     "text": [
      "Name: pyflink\n",
      "Version: 1.0\n",
      "Summary: Flink Python API\n",
      "Home-page: http://flink.apache.org\n",
      "Author: ueqt\n",
      "Author-email: ueqtxu@gmail.com\n",
      "License: Licensed under the Apache License, Version 2.0\n",
      "Location: /opt/anaconda3/envs/dseb_tsa/lib/python3.9/site-packages\n",
      "Requires: \n",
      "Required-by: \n"
     ]
    }
   ],
   "source": [
    "!pip show pyflink"
   ]
  },
  {
   "cell_type": "code",
   "execution_count": 8,
   "id": "a943db3d",
   "metadata": {},
   "outputs": [
    {
     "ename": "ModuleNotFoundError",
     "evalue": "No module named 'pyflink'",
     "output_type": "error",
     "traceback": [
      "\u001b[0;31m---------------------------------------------------------------------------\u001b[0m",
      "\u001b[0;31mModuleNotFoundError\u001b[0m                       Traceback (most recent call last)",
      "Cell \u001b[0;32mIn[8], line 1\u001b[0m\n\u001b[0;32m----> 1\u001b[0m \u001b[38;5;28;01mfrom\u001b[39;00m \u001b[38;5;21;01mpyflink\u001b[39;00m\u001b[38;5;21;01m.\u001b[39;00m\u001b[38;5;21;01mcommon\u001b[39;00m \u001b[38;5;28;01mimport\u001b[39;00m WatermarkStrategy\n\u001b[1;32m      2\u001b[0m \u001b[38;5;28;01mfrom\u001b[39;00m \u001b[38;5;21;01mpyflink\u001b[39;00m\u001b[38;5;21;01m.\u001b[39;00m\u001b[38;5;21;01mcommon\u001b[39;00m\u001b[38;5;21;01m.\u001b[39;00m\u001b[38;5;21;01mserialization\u001b[39;00m \u001b[38;5;28;01mimport\u001b[39;00m SimpleStringSchema\n",
      "\u001b[0;31mModuleNotFoundError\u001b[0m: No module named 'pyflink'"
     ]
    }
   ],
   "source": [
    "from pyflink.common import WatermarkStrategy\n",
    "from pyflink.common.serialization import SimpleStringSchema"
   ]
  },
  {
   "cell_type": "code",
   "execution_count": null,
   "id": "5b80cf6f",
   "metadata": {},
   "outputs": [],
   "source": []
  },
  {
   "cell_type": "code",
   "execution_count": null,
   "id": "b3769b85",
   "metadata": {},
   "outputs": [],
   "source": []
  }
 ],
 "metadata": {
  "kernelspec": {
   "display_name": "dseb_tsa",
   "language": "python",
   "name": "python3"
  },
  "language_info": {
   "codemirror_mode": {
    "name": "ipython",
    "version": 3
   },
   "file_extension": ".py",
   "mimetype": "text/x-python",
   "name": "python",
   "nbconvert_exporter": "python",
   "pygments_lexer": "ipython3",
   "version": "3.9.21"
  }
 },
 "nbformat": 4,
 "nbformat_minor": 5
}
