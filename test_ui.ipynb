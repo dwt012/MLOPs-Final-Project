{
 "cells": [
  {
   "cell_type": "code",
   "execution_count": 1,
   "id": "65f11945",
   "metadata": {},
   "outputs": [],
   "source": [
    "import streamlit as st\n",
    "import pandas as pd\n",
    "from datetime import datetime\n",
    "import time\n",
    "import os\n",
    "from dotenv import load_dotenv"
   ]
  },
  {
   "cell_type": "code",
   "execution_count": 2,
   "id": "a8ac694c",
   "metadata": {},
   "outputs": [],
   "source": [
    "from Stream_processing.postgresql_utils.postgresql_client import PostgresSQLClient"
   ]
  },
  {
   "cell_type": "code",
   "execution_count": 4,
   "id": "05d86d27",
   "metadata": {},
   "outputs": [],
   "source": [
    "from Stream_processing.datastream_api import main as datastream_main\n",
    "\n"
   ]
  },
  {
   "cell_type": "code",
   "execution_count": 5,
   "id": "bdb397d8",
   "metadata": {},
   "outputs": [
    {
     "name": "stdout",
     "output_type": "stream",
     "text": [
      "{'created': '1746820130727', 'content': 'Hi', 'pregnancies': 9, 'glucose': 148, 'bloodpressure': 72, 'skinthickness': 35, 'insulin': 0, 'bmi': 33.6, 'diabetespedigreefunction': 0.627, 'age': 50}\n",
      "{'created': '1746820377322', 'content': 'Hi', 'pregnancies': 9, 'glucose': 148, 'bloodpressure': 72, 'skinthickness': 35, 'insulin': 0, 'bmi': 33.6, 'diabetespedigreefunction': 0.627, 'age': 50}\n",
      "{'created': '1746821021184', 'content': 'Hi', 'pregnancies': 6, 'glucose': 148, 'bloodpressure': 72, 'skinthickness': 35, 'insulin': 0, 'bmi': 33.6, 'diabetespedigreefunction': 0.627, 'age': 50}\n",
      "{'created': '1746821283391', 'content': 'Hi', 'pregnancies': 6, 'glucose': 148, 'bloodpressure': 72, 'skinthickness': 35, 'insulin': 0, 'bmi': 33.6, 'diabetespedigreefunction': 0.627, 'age': 50}\n",
      "{'created': '1746821689316', 'content': 'Hi', 'pregnancies': 4, 'glucose': 148, 'bloodpressure': 72, 'skinthickness': 35, 'insulin': 0, 'bmi': 33.6, 'diabetespedigreefunction': 0.627, 'age': 50}\n",
      "{'created': '1746835629923', 'content': 'Hi', 'pregnancies': 6, 'glucose': 148, 'bloodpressure': 72, 'skinthickness': 35, 'insulin': 0, 'bmi': 33.6, 'diabetespedigreefunction': 0.627, 'age': 50}\n",
      "{'created': '1746835763089', 'content': 'Hi', 'pregnancies': 6, 'glucose': 148, 'bloodpressure': 72, 'skinthickness': 35, 'insulin': 0, 'bmi': 33.6, 'diabetespedigreefunction': 0.627, 'age': 50}\n",
      "{'created': '1746835889848', 'content': 'Hi', 'pregnancies': 9, 'glucose': 150, 'bloodpressure': 69, 'skinthickness': 34, 'insulin': 1, 'bmi': 33.6, 'diabetespedigreefunction': 0.627, 'age': 50}\n"
     ]
    }
   ],
   "source": [
    "from Stream_processing.kafka_consumer import main as kafka_consumer_main"
   ]
  },
  {
   "cell_type": "code",
   "execution_count": 8,
   "id": "235b422a",
   "metadata": {},
   "outputs": [
    {
     "name": "stderr",
     "output_type": "stream",
     "text": [
      "2025-05-09 16:28:31.802 WARNING streamlit.runtime.scriptrunner_utils.script_run_context: Thread 'MainThread': missing ScriptRunContext! This warning can be ignored when running in bare mode.\n",
      "2025-05-09 16:28:32.253 \n",
      "  \u001b[33m\u001b[1mWarning:\u001b[0m to view this Streamlit app on a browser, run it with the following\n",
      "  command:\n",
      "\n",
      "    streamlit run /opt/anaconda3/envs/flink-env/lib/python3.10/site-packages/ipykernel_launcher.py [ARGUMENTS]\n",
      "2025-05-09 16:28:32.258 Thread 'MainThread': missing ScriptRunContext! This warning can be ignored when running in bare mode.\n",
      "2025-05-09 16:28:32.266 Thread 'MainThread': missing ScriptRunContext! This warning can be ignored when running in bare mode.\n",
      "2025-05-09 16:28:32.272 Thread 'MainThread': missing ScriptRunContext! This warning can be ignored when running in bare mode.\n",
      "2025-05-09 16:28:32.274 Thread 'MainThread': missing ScriptRunContext! This warning can be ignored when running in bare mode.\n",
      "2025-05-09 16:28:32.275 Thread 'MainThread': missing ScriptRunContext! This warning can be ignored when running in bare mode.\n",
      "2025-05-09 16:28:32.279 Thread 'MainThread': missing ScriptRunContext! This warning can be ignored when running in bare mode.\n",
      "2025-05-09 16:28:32.281 Thread 'MainThread': missing ScriptRunContext! This warning can be ignored when running in bare mode.\n",
      "2025-05-09 16:28:32.283 Thread 'MainThread': missing ScriptRunContext! This warning can be ignored when running in bare mode.\n",
      "2025-05-09 16:28:32.286 Thread 'MainThread': missing ScriptRunContext! This warning can be ignored when running in bare mode.\n",
      "2025-05-09 16:28:32.289 Thread 'MainThread': missing ScriptRunContext! This warning can be ignored when running in bare mode.\n",
      "2025-05-09 16:28:32.291 Thread 'MainThread': missing ScriptRunContext! This warning can be ignored when running in bare mode.\n",
      "2025-05-09 16:28:32.294 Thread 'MainThread': missing ScriptRunContext! This warning can be ignored when running in bare mode.\n",
      "2025-05-09 16:28:32.296 Session state does not function when running a script without `streamlit run`\n",
      "2025-05-09 16:28:32.301 Thread 'MainThread': missing ScriptRunContext! This warning can be ignored when running in bare mode.\n",
      "2025-05-09 16:28:32.304 Thread 'MainThread': missing ScriptRunContext! This warning can be ignored when running in bare mode.\n",
      "2025-05-09 16:28:32.309 Thread 'MainThread': missing ScriptRunContext! This warning can be ignored when running in bare mode.\n",
      "2025-05-09 16:28:32.313 Thread 'MainThread': missing ScriptRunContext! This warning can be ignored when running in bare mode.\n",
      "2025-05-09 16:28:32.319 Thread 'MainThread': missing ScriptRunContext! This warning can be ignored when running in bare mode.\n",
      "2025-05-09 16:28:32.326 Thread 'MainThread': missing ScriptRunContext! This warning can be ignored when running in bare mode.\n",
      "2025-05-09 16:28:32.329 Thread 'MainThread': missing ScriptRunContext! This warning can be ignored when running in bare mode.\n",
      "2025-05-09 16:28:32.330 Thread 'MainThread': missing ScriptRunContext! This warning can be ignored when running in bare mode.\n",
      "2025-05-09 16:28:32.333 Thread 'MainThread': missing ScriptRunContext! This warning can be ignored when running in bare mode.\n",
      "2025-05-09 16:28:32.335 Thread 'MainThread': missing ScriptRunContext! This warning can be ignored when running in bare mode.\n",
      "2025-05-09 16:28:32.338 Thread 'MainThread': missing ScriptRunContext! This warning can be ignored when running in bare mode.\n",
      "2025-05-09 16:28:32.340 Thread 'MainThread': missing ScriptRunContext! This warning can be ignored when running in bare mode.\n",
      "2025-05-09 16:28:32.342 Thread 'MainThread': missing ScriptRunContext! This warning can be ignored when running in bare mode.\n",
      "2025-05-09 16:28:32.344 Thread 'MainThread': missing ScriptRunContext! This warning can be ignored when running in bare mode.\n",
      "2025-05-09 16:28:32.346 Thread 'MainThread': missing ScriptRunContext! This warning can be ignored when running in bare mode.\n",
      "2025-05-09 16:28:32.347 Thread 'MainThread': missing ScriptRunContext! This warning can be ignored when running in bare mode.\n",
      "2025-05-09 16:28:32.349 Thread 'MainThread': missing ScriptRunContext! This warning can be ignored when running in bare mode.\n",
      "2025-05-09 16:28:32.351 Thread 'MainThread': missing ScriptRunContext! This warning can be ignored when running in bare mode.\n",
      "2025-05-09 16:28:32.353 Thread 'MainThread': missing ScriptRunContext! This warning can be ignored when running in bare mode.\n",
      "2025-05-09 16:28:32.354 Thread 'MainThread': missing ScriptRunContext! This warning can be ignored when running in bare mode.\n",
      "2025-05-09 16:28:32.357 Thread 'MainThread': missing ScriptRunContext! This warning can be ignored when running in bare mode.\n",
      "2025-05-09 16:28:32.358 Thread 'MainThread': missing ScriptRunContext! This warning can be ignored when running in bare mode.\n",
      "2025-05-09 16:28:32.360 Thread 'MainThread': missing ScriptRunContext! This warning can be ignored when running in bare mode.\n",
      "2025-05-09 16:28:32.362 Thread 'MainThread': missing ScriptRunContext! This warning can be ignored when running in bare mode.\n",
      "2025-05-09 16:28:32.364 Thread 'MainThread': missing ScriptRunContext! This warning can be ignored when running in bare mode.\n",
      "2025-05-09 16:28:32.365 Thread 'MainThread': missing ScriptRunContext! This warning can be ignored when running in bare mode.\n",
      "2025-05-09 16:28:32.367 Thread 'MainThread': missing ScriptRunContext! This warning can be ignored when running in bare mode.\n",
      "2025-05-09 16:28:32.368 Thread 'MainThread': missing ScriptRunContext! This warning can be ignored when running in bare mode.\n",
      "2025-05-09 16:28:32.375 Thread 'MainThread': missing ScriptRunContext! This warning can be ignored when running in bare mode.\n",
      "2025-05-09 16:28:32.381 Thread 'MainThread': missing ScriptRunContext! This warning can be ignored when running in bare mode.\n",
      "2025-05-09 16:28:32.384 Thread 'MainThread': missing ScriptRunContext! This warning can be ignored when running in bare mode.\n",
      "2025-05-09 16:28:32.389 Thread 'MainThread': missing ScriptRunContext! This warning can be ignored when running in bare mode.\n",
      "2025-05-09 16:28:32.392 Thread 'MainThread': missing ScriptRunContext! This warning can be ignored when running in bare mode.\n",
      "2025-05-09 16:28:32.394 Thread 'MainThread': missing ScriptRunContext! This warning can be ignored when running in bare mode.\n",
      "2025-05-09 16:28:32.396 Thread 'MainThread': missing ScriptRunContext! This warning can be ignored when running in bare mode.\n",
      "2025-05-09 16:28:32.397 Thread 'MainThread': missing ScriptRunContext! This warning can be ignored when running in bare mode.\n",
      "2025-05-09 16:28:32.399 Thread 'MainThread': missing ScriptRunContext! This warning can be ignored when running in bare mode.\n",
      "2025-05-09 16:28:32.400 Thread 'MainThread': missing ScriptRunContext! This warning can be ignored when running in bare mode.\n",
      "2025-05-09 16:28:32.401 Thread 'MainThread': missing ScriptRunContext! This warning can be ignored when running in bare mode.\n",
      "2025-05-09 16:28:32.402 Thread 'MainThread': missing ScriptRunContext! This warning can be ignored when running in bare mode.\n",
      "2025-05-09 16:28:32.403 Thread 'MainThread': missing ScriptRunContext! This warning can be ignored when running in bare mode.\n",
      "2025-05-09 16:28:32.404 Thread 'MainThread': missing ScriptRunContext! This warning can be ignored when running in bare mode.\n",
      "2025-05-09 16:28:32.405 Thread 'MainThread': missing ScriptRunContext! This warning can be ignored when running in bare mode.\n",
      "2025-05-09 16:28:32.406 Thread 'MainThread': missing ScriptRunContext! This warning can be ignored when running in bare mode.\n",
      "2025-05-09 16:28:32.407 Thread 'MainThread': missing ScriptRunContext! This warning can be ignored when running in bare mode.\n",
      "2025-05-09 16:28:32.411 Thread 'MainThread': missing ScriptRunContext! This warning can be ignored when running in bare mode.\n",
      "2025-05-09 16:28:32.413 Thread 'MainThread': missing ScriptRunContext! This warning can be ignored when running in bare mode.\n",
      "2025-05-09 16:28:32.415 Thread 'MainThread': missing ScriptRunContext! This warning can be ignored when running in bare mode.\n",
      "2025-05-09 16:28:32.416 Thread 'MainThread': missing ScriptRunContext! This warning can be ignored when running in bare mode.\n"
     ]
    }
   ],
   "source": [
    "# Title\n",
    "st.title(\"Diabetes Prediction System\")\n",
    "\n",
    "# Form for input\n",
    "with st.form(\"prediction_form\"):\n",
    "    st.subheader(\"Enter Patient Information\")\n",
    "    \n",
    "    # Create 4 rows with 2 columns each\n",
    "    col1, col2 = st.columns(2)\n",
    "    \n",
    "    with col1:\n",
    "        pregnancies = st.number_input(\"Number of Pregnancies\", min_value=0, max_value=17, value=6)\n",
    "        blood_pressure = st.number_input(\"Blood Pressure (mm Hg)\", min_value=0, max_value=122, value=72)\n",
    "        insulin = st.number_input(\"Insulin Level\", min_value=0, max_value=846, value=0)\n",
    "        diabetes_pedigree = st.number_input(\"Diabetes Pedigree Function\", min_value=0.078, max_value=2.42, value=0.627, step=0.001)\n",
    "    \n",
    "    with col2:\n",
    "        glucose = st.number_input(\"Glucose Level\", min_value=0, max_value=199, value=148)\n",
    "        skin_thickness = st.number_input(\"Skin Thickness (mm)\", min_value=0, max_value=99, value=35)\n",
    "        bmi = st.number_input(\"BMI\", min_value=0.0, max_value=67.1, value=33.6, step=0.1)\n",
    "        age = st.number_input(\"Age\", min_value=21, max_value=81, value=50)\n",
    "    \n",
    "    # Submit button\n",
    "    submitted = st.form_submit_button(\"Predict\")\n"
   ]
  },
  {
   "cell_type": "code",
   "execution_count": null,
   "id": "4385eaf9",
   "metadata": {
    "vscode": {
     "languageId": "shellscript"
    }
   },
   "outputs": [],
   "source": []
  },
  {
   "cell_type": "code",
   "execution_count": null,
   "id": "a96e3e15",
   "metadata": {
    "vscode": {
     "languageId": "shellscript"
    }
   },
   "outputs": [],
   "source": []
  }
 ],
 "metadata": {
  "kernelspec": {
   "display_name": "flink-env",
   "language": "python",
   "name": "python3"
  },
  "language_info": {
   "codemirror_mode": {
    "name": "ipython",
    "version": 3
   },
   "file_extension": ".py",
   "mimetype": "text/x-python",
   "name": "python",
   "nbconvert_exporter": "python",
   "pygments_lexer": "ipython3",
   "version": "3.10.17"
  }
 },
 "nbformat": 4,
 "nbformat_minor": 5
}
